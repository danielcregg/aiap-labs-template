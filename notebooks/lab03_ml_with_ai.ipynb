{
 "cells": [
  {
   "cell_type": "markdown",
   "metadata": {},
   "source": [
    "# AI Assisted Programming - Lab 03: Machine Learning with AI Tools\n",
    "\n",
    "In this notebook, you'll practice using AI assistance for machine learning tasks.\n",
    "Use GitHub Copilot and Copilot Chat to help you complete the exercises."
   ]
  },
  {
   "cell_type": "markdown",
   "metadata": {},
   "source": [
    "## Setup and Imports\n",
    "First, let's import the necessary libraries. Use AI to help you identify what libraries you might need."
   ]
  },
  {
   "cell_type": "code",
   "execution_count": null,
   "metadata": {},
   "outputs": [],
   "source": [
    "# TODO: Use AI to help import necessary libraries for ML\n",
    "# Suggested: pandas, numpy, matplotlib, seaborn, sklearn\n",
    "\n",
    "import pandas as pd\n",
    "import numpy as np\n",
    "import matplotlib.pyplot as plt\n",
    "import seaborn as sns\n",
    "\n",
    "# Set up plotting\n",
    "plt.style.use('default')\n",
    "sns.set_palette(\"husl\")\n",
    "\n",
    "# Display all columns in pandas\n",
    "pd.set_option('display.max_columns', None)"
   ]
  },
  {
   "cell_type": "markdown",
   "metadata": {},
   "source": [
    "## Task 1: Data Generation and Exploration\n",
    "Use AI to help you create a synthetic dataset for classification or regression."
   ]
  },
  {
   "cell_type": "code",
   "execution_count": null,
   "metadata": {},
   "outputs": [],
   "source": [
    "# TODO: Ask AI to help generate a synthetic dataset\n",
    "# Consider using sklearn's make_classification or make_regression\n",
    "\n"
   ]
  },
  {
   "cell_type": "code",
   "execution_count": null,
   "metadata": {},
   "outputs": [],
   "source": [
    "# TODO: Use AI to create exploratory data analysis code\n",
    "# Include: data shape, statistics, visualizations\n",
    "\n"
   ]
  },
  {
   "cell_type": "markdown",
   "metadata": {},
   "source": [
    "## Task 2: Data Preprocessing\n",
    "Use AI assistance to create a comprehensive data preprocessing pipeline."
   ]
  },
  {
   "cell_type": "code",
   "execution_count": null,
   "metadata": {},
   "outputs": [],
   "source": [
    "# TODO: Ask AI to help with data preprocessing\n",
    "# Include: scaling, encoding, train-test split\n",
    "\n"
   ]
  },
  {
   "cell_type": "markdown",
   "metadata": {},
   "source": [
    "## Task 3: Model Training and Evaluation\n",
    "Use AI to help you implement multiple ML models and compare their performance."
   ]
  },
  {
   "cell_type": "code",
   "execution_count": null,
   "metadata": {},
   "outputs": [],
   "source": [
    "# TODO: Use AI to implement multiple ML models\n",
    "# Suggested: LinearRegression, RandomForest, SVM\n",
    "\n"
   ]
  },
  {
   "cell_type": "code",
   "execution_count": null,
   "metadata": {},
   "outputs": [],
   "source": [
    "# TODO: Ask AI to help create model evaluation code\n",
    "# Include: cross-validation, metrics, visualization\n",
    "\n"
   ]
  },
  {
   "cell_type": "markdown",
   "metadata": {},
   "source": [
    "## Task 4: Hyperparameter Tuning\n",
    "Use AI assistance to implement hyperparameter optimization."
   ]
  },
  {
   "cell_type": "code",
   "execution_count": null,
   "metadata": {},
   "outputs": [],
   "source": [
    "# TODO: Ask AI to help with hyperparameter tuning\n",
    "# Consider GridSearchCV or RandomizedSearchCV\n",
    "\n"
   ]
  },
  {
   "cell_type": "markdown",
   "metadata": {},
   "source": [
    "## Task 5: Results Analysis and Visualization\n",
    "Create comprehensive visualizations and analysis of your results."
   ]
  },
  {
   "cell_type": "code",
   "execution_count": null,
   "metadata": {},
   "outputs": [],
   "source": [
    "# TODO: Use AI to create result visualizations\n",
    "# Include: confusion matrix, ROC curves, feature importance\n",
    "\n"
   ]
  },
  {
   "cell_type": "markdown",
   "metadata": {},
   "source": [
    "## Reflection\n",
    "Use this space to reflect on how AI assistance helped you with the ML workflow."
   ]
  },
  {
   "cell_type": "markdown",
   "metadata": {},
   "source": [
    "**Questions to consider:**\n",
    "1. How did AI assistance speed up your development process?\n",
    "2. What types of suggestions were most helpful?\n",
    "3. Where did you need to modify or reject AI suggestions?\n",
    "4. How can you improve your prompting for better AI assistance?\n",
    "\n",
    "**Your reflection:**\n",
    "[Write your thoughts here]"
   ]
  }
 ],
 "metadata": {
  "kernelspec": {
   "display_name": "Python 3",
   "language": "python",
   "name": "python3"
  },
  "language_info": {
   "codemirror_mode": {
    "name": "ipython",
    "version": 3
   },
   "file_extension": ".py",
   "mimetype": "text/x-python",
   "name": "python",
   "nbconvert_exporter": "python",
   "pygments_lexer": "ipython3",
   "version": "3.11.0"
  }
 },
 "nbformat": 4,
 "nbformat_minor": 4
}